{
 "cells": [
  {
   "cell_type": "code",
   "execution_count": 5,
   "metadata": {},
   "outputs": [
    {
     "name": "stdout",
     "output_type": "stream",
     "text": [
      "\n",
      "Enter 1 for addition :\n",
      "Enter 2 for subtraction :\n",
      "Enter 3 for multiplication :\n",
      "Enter 4 for division :\n",
      "Enter 5 for power: \n",
      "Enter your choice: 2\n",
      "Enter first value: 3\n",
      "Enter second value: 4\n",
      "\n",
      "Answer : -1\n"
     ]
    }
   ],
   "source": [
    "\"1.Write a Proram to make Calculator in Python Addition,Subtraction,Multiplication,Division & Power.\"\n",
    "print(\"\\nEnter 1 for addition :\")\n",
    "print(\"Enter 2 for subtraction :\")\n",
    "print(\"Enter 3 for multiplication :\")\n",
    "print(\"Enter 4 for division :\")\n",
    "print(\"Enter 5 for power: \")\n",
    "choice = int(input(\"Enter your choice: \"))\n",
    "\n",
    "ans = None\n",
    "num1 = int(input(\"Enter first value: \"))\n",
    "num2 = int(input(\"Enter second value: \"))\n",
    "\n",
    "if choice == 1:\n",
    "    ans = num1+num2\n",
    "elif choice == 2:\n",
    "    ans = num1-num2\n",
    "elif choice == 3:\n",
    "    ans = num1*num2\n",
    "elif choice == 4:\n",
    "    ans = num1/num2\n",
    "elif choice == 5:\n",
    "    ans = num1**num2\n",
    "    \n",
    "print(f\"\\nAnswer : {ans}\")"
   ]
  },
  {
   "cell_type": "code",
   "execution_count": 15,
   "metadata": {},
   "outputs": [
    {
     "name": "stdout",
     "output_type": "stream",
     "text": [
      "\n",
      " Numeric Value Found : 3\n"
     ]
    }
   ],
   "source": [
    "\"2.Write a proram to check any numeric value in list usin for loop\"\n",
    "list=[\"3\",\"Fatima\",3,\"5\",True]\n",
    "for value in list:\n",
    " if type(value) == int or type(value) == float:\n",
    "    print(f\"\\n Numeric Value Found : {value}\")\n",
    "    break\n",
    "\n",
    "\n"
   ]
  },
  {
   "cell_type": "code",
   "execution_count": 16,
   "metadata": {},
   "outputs": [
    {
     "name": "stdout",
     "output_type": "stream",
     "text": [
      "Key Added\n"
     ]
    }
   ],
   "source": [
    "\"3.Write a program to add Python script to add key in a dictionary\"\n",
    "dic = {}\n",
    "dic[1] = \"Key Added\"\n",
    "print(dic[1])"
   ]
  },
  {
   "cell_type": "code",
   "execution_count": 17,
   "metadata": {},
   "outputs": [
    {
     "name": "stdout",
     "output_type": "stream",
     "text": [
      "Sum = 104\n"
     ]
    }
   ],
   "source": [
    "\"4.Write a Python Program to add all numeric value in dictionary\"\n",
    "\n",
    "result = 0\n",
    "dic = {1: \"Fatima\" ,2: \"Hello\", 3: 4, 4:\"Not numerical\",5: 100}\n",
    "\n",
    "for value in dic.values():\n",
    "    if type(value) == int or type(value) == float:\n",
    "        result = result + value        \n",
    "        \n",
    "print(f\"Sum = {result}\")"
   ]
  },
  {
   "cell_type": "code",
   "execution_count": 25,
   "metadata": {},
   "outputs": [
    {
     "name": "stdout",
     "output_type": "stream",
     "text": [
      "Duplicate 2\n",
      "Duplicate 2\n",
      "Duplicate Fatima\n",
      "Duplicate Fatima\n"
     ]
    }
   ],
   "source": [
    "\"5.Write a Program to identify duplicate value from list\"\n",
    "List = [\"1\",2,2,3,4,\"Fatima\",\"Fatima\"]\n",
    "for value in List:\n",
    "    if  List.count(value) > 1:\n",
    "        print(f\"Duplicate {value}\")"
   ]
  },
  {
   "cell_type": "code",
   "execution_count": 26,
   "metadata": {},
   "outputs": [
    {
     "name": "stdout",
     "output_type": "stream",
     "text": [
      "2 Already exists\n"
     ]
    }
   ],
   "source": [
    "\"6.Write a Python Program if a given key already exist in the dictionary\"\n",
    "dic = { 1: \"key1\", 2: \"key2\", 3: \"key3\"}\n",
    "\n",
    "given_key = 2\n",
    "\n",
    "for key in dic.keys():\n",
    "    if key == given_key:\n",
    "        print(f\"{given_key} Already exists\")"
   ]
  },
  {
   "cell_type": "code",
   "execution_count": null,
   "metadata": {},
   "outputs": [],
   "source": []
  }
 ],
 "metadata": {
  "kernelspec": {
   "display_name": "Python 3",
   "language": "python",
   "name": "python3"
  },
  "language_info": {
   "codemirror_mode": {
    "name": "ipython",
    "version": 3
   },
   "file_extension": ".py",
   "mimetype": "text/x-python",
   "name": "python",
   "nbconvert_exporter": "python",
   "pygments_lexer": "ipython3",
   "version": "3.7.4"
  }
 },
 "nbformat": 4,
 "nbformat_minor": 2
}
